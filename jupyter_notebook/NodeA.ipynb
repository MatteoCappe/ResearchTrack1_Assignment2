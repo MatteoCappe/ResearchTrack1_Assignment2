{
 "cells": [
  {
   "cell_type": "markdown",
   "id": "c436b2da",
   "metadata": {},
   "source": [
    "# RT2 Assignment2"
   ]
  },
  {
   "cell_type": "markdown",
   "id": "b09e31e3",
   "metadata": {},
   "source": [
    "- Create a jupyter notebook to replace the user interface (the node «A»)\n",
    "- Use widgets to let the user know the position of the robot and all targets that have been set and cancelled in the environment and the distance of the closest obstacle"
   ]
  },
  {
   "cell_type": "code",
   "execution_count": 1,
   "id": "611d67b1",
   "metadata": {},
   "outputs": [],
   "source": [
    "#import jupyter and graphs libraries\n",
    "%matplotlib widget\n",
    "import jupyros as jr\n",
    "import ipywidgets as widgets\n",
    "import numpy as np\n",
    "from matplotlib.animation import FuncAnimation\n",
    "import matplotlib.pyplot as plt\n",
    "from sensor_msgs.msg import LaserScan\n",
    "from IPython.display import display\n",
    "from ipywidgets import FloatText, Layout, HBox\n",
    "\n",
    "#import ROS-related libraries and messages\n",
    "import rospy\n",
    "import actionlib\n",
    "import actionlib.msg\n",
    "\n",
    "import assignment_2_2022\n",
    "import assignment_2_2022.msg\n",
    "from std_srvs.srv import *\n",
    "from geometry_msgs.msg import Point, Pose, Twist\n",
    "from nav_msgs.msg import Odometry\n",
    "from assignment_2_2022.msg import InfoMsg"
   ]
  },
  {
   "cell_type": "code",
   "execution_count": 2,
   "id": "11a8249d",
   "metadata": {},
   "outputs": [],
   "source": [
    "#initialize goal\n",
    "goal = None"
   ]
  },
  {
   "cell_type": "markdown",
   "id": "be4164f7",
   "metadata": {},
   "source": [
    "Node initialization:"
   ]
  },
  {
   "cell_type": "code",
   "execution_count": 3,
   "id": "1f3f47de",
   "metadata": {},
   "outputs": [
    {
     "data": {
      "text/plain": [
       "True"
      ]
     },
     "execution_count": 3,
     "metadata": {},
     "output_type": "execute_result"
    }
   ],
   "source": [
    "#initialize the ROS node\n",
    "rospy.init_node('jupyter_nodeA')\n",
    "\n",
    "#create a custom msg publisher on the '/robot_info' topic\n",
    "pub = rospy.Publisher('/robot_info', InfoMsg, queue_size=1)\n",
    "\n",
    "#creates the action client\n",
    "client = actionlib.SimpleActionClient('/reaching_goal', assignment_2_2022.msg.PlanningAction)\n",
    "\n",
    "#waits for the server to be ready\n",
    "client.wait_for_server()"
   ]
  },
  {
   "cell_type": "markdown",
   "id": "3a7ea842",
   "metadata": {},
   "source": [
    "Widget creation:"
   ]
  },
  {
   "cell_type": "code",
   "execution_count": 4,
   "id": "888f7e99",
   "metadata": {},
   "outputs": [],
   "source": [
    "#create bounded float text widgets for goal coordinates\n",
    "x_goal = widgets.BoundedFloatText(value = 0.0, description = 'x', min = -9.0, max = 9.0,\n",
    "                            style = {'description_width': 'initial'}, step = 0.1, \n",
    "                            layout = widgets.Layout(width = '100px'))\n",
    "\n",
    "y_goal = widgets.BoundedFloatText(value = 0.0, description = 'y', min = -9.0, max = 9.0,\n",
    "                            style = {'description_width': 'initial'}, step = 0.1, \n",
    "                            layout = widgets.Layout(width = '100px'))\n",
    "\n",
    "#create button widgets for sending and canceling goals\n",
    "send_goal = widgets.Button(\n",
    "    value=False,\n",
    "    description='Send goal',\n",
    "    disabled=False,\n",
    "    button_style='success',\n",
    ")\n",
    "\n",
    "cancel_goal = widgets.Button(\n",
    "    value=False,\n",
    "    description='Cancel goal',\n",
    "    disabled=False,\n",
    "    button_style='danger',\n",
    ")\n",
    "\n",
    "#create a float text widget to display the distance from the closest obstacle\n",
    "obs_distance = widgets.FloatText(value=0.0, description='Obstacle Distance:', disabled=True)\n",
    "obs_distance.layout = Layout(width='auto')"
   ]
  },
  {
   "cell_type": "markdown",
   "id": "329e0e16",
   "metadata": {},
   "source": [
    "Definition of the callback function for the '/odom' topic:"
   ]
  },
  {
   "cell_type": "code",
   "execution_count": 5,
   "id": "9938e6e9",
   "metadata": {},
   "outputs": [],
   "source": [
    "def callback(msg):\n",
    "\n",
    "    global pub\n",
    "    \n",
    "    #get position and linear velocity from msg\n",
    "    position = msg.pose.pose.position\n",
    "    velocity = msg.twist.twist.linear\n",
    "    \n",
    "    #create custom msg\n",
    "    robot_info = InfoMsg()\n",
    "    robot_info.x = position.x\n",
    "    robot_info.y = position.y\n",
    "    robot_info.velX = velocity.x\n",
    "    robot_info.velY = velocity.y\n",
    "\n",
    "    #publish robot_info\n",
    "    pub.publish(robot_info)"
   ]
  },
  {
   "cell_type": "markdown",
   "id": "94383335",
   "metadata": {},
   "source": [
    "Defininition of the callback function for the '/scan' topic"
   ]
  },
  {
   "cell_type": "code",
   "execution_count": 6,
   "id": "48697ef6",
   "metadata": {},
   "outputs": [],
   "source": [
    "def laser_callback(msg):\n",
    "    \n",
    "    #get range values from the laser scan msg   \n",
    "    ranges = msg.ranges\n",
    "    \n",
    "    #get the closest obstacle by taking the minimum value inside the list \n",
    "    nearest_obstacle_range = min(ranges)\n",
    "            \n",
    "    #set the output with the previously found minimum\n",
    "    obs_distance.value=nearest_obstacle_range"
   ]
  },
  {
   "cell_type": "markdown",
   "id": "9525bda7",
   "metadata": {},
   "source": [
    "Buttons actions:"
   ]
  },
  {
   "cell_type": "code",
   "execution_count": 7,
   "id": "b776999b",
   "metadata": {},
   "outputs": [],
   "source": [
    "def sendGoal(btn):\n",
    "    \n",
    "    global goal\n",
    "    \n",
    "    #set the goal position with the previously entered coordinates\n",
    "    goal = assignment_2_2022.msg.PlanningGoal()\n",
    "    goal.target_pose.pose.position.x = x_goal.value\n",
    "    goal.target_pose.pose.position.y = y_goal.value\n",
    "    \n",
    "    #send the goal to the action server\n",
    "    client.send_goal(goal)\n",
    "    \n",
    "#activate the send button when clicked    \n",
    "send_goal.on_click(sendGoal)"
   ]
  },
  {
   "cell_type": "code",
   "execution_count": 8,
   "id": "4e4df1b9",
   "metadata": {},
   "outputs": [],
   "source": [
    "def cancelGoal(btn):\n",
    "    \n",
    "    global goal\n",
    "    \n",
    "    #cancel the active\n",
    "    if client.get_state() == actionlib.GoalStatus.ACTIVE:\n",
    "        goal = None\n",
    "        client.cancel_goal()\n",
    "\n",
    "#activate the cancel button when clicked            \n",
    "cancel_goal.on_click(cancelGoal)"
   ]
  },
  {
   "cell_type": "markdown",
   "id": "23fc6ad2",
   "metadata": {},
   "source": [
    "Definition of the class responsible for the visualization of the reached/cancelled goals using a bar graph:"
   ]
  },
  {
   "cell_type": "code",
   "execution_count": 9,
   "id": "ff5bbfe5",
   "metadata": {},
   "outputs": [],
   "source": [
    "class Goal_Visualizer:\n",
    "    \n",
    "    def __init__(self):\n",
    "        \n",
    "        #initialize the figure\n",
    "        self.fig, self.ax_bar = plt.subplots()\n",
    "\n",
    "        #initialize the counters relative to reached and cancelled goals\n",
    "        self.reached = 0\n",
    "        self.cancelled = 0\n",
    "\n",
    "        #set the title and the colors of the graph\n",
    "        self.ax_bar.set_title('Goal Statistics')\n",
    "        self.bar_colors = ['green', 'red']\n",
    "\n",
    "        #set the labels and positions for the bars on the x-axis\n",
    "        self.bar_labels = ('Reached', 'Cancelled')\n",
    "        self.bar_pos = np.arange(len(self.bar_labels))\n",
    "        self.ax_bar.set_xticks(self.bar_pos)\n",
    "        self.ax_bar.set_xticklabels(self.bar_labels)\n",
    "\n",
    "        #set the y-axis limits and ticks\n",
    "        self.ax_bar.set_ylim([0, 3])\n",
    "        self.ax_bar.set_yticks(np.arange(0, 3, 1))\n",
    "\n",
    "        #create the initial bar plot with the counters set to 0\n",
    "        self.bar_plot = self.ax_bar.bar(self.bar_pos, [self.reached, self.cancelled], align='center', color=self.bar_colors)\n",
    "\n",
    "    def goal_callback(self, msg):\n",
    "        \n",
    "        #check the status and update the two counters based on the result\n",
    "        if msg.status.status == 3:\n",
    "            self.reached += 1\n",
    "        elif msg.status.status == 2:\n",
    "            self.cancelled += 1\n",
    "\n",
    "    def update(self, frame):\n",
    "        \n",
    "        self.bar_counts = [self.reached, self.cancelled]\n",
    "\n",
    "        #update the bar heights based on the updated counters\n",
    "        for i, bar in enumerate(self.bar_plot):\n",
    "            if i == 0:\n",
    "                bar.set_height(self.reached)\n",
    "            else:\n",
    "                bar.set_height(self.cancelled)\n",
    "\n",
    "        #adjust the y-axis limits and ticks based on the maximum counter value\n",
    "        self.ax_bar.set_ylim([0, max(self.bar_counts) + 2])\n",
    "        self.ax_bar.set_yticks(np.arange(0, max(self.bar_counts) + 2, 1))\n",
    "\n",
    "        return self.bar_plot\n"
   ]
  },
  {
   "cell_type": "markdown",
   "id": "c5b02276",
   "metadata": {},
   "source": [
    "Definition of the class responsible for the visualization of the goal position and the robot trajectory:"
   ]
  },
  {
   "cell_type": "code",
   "execution_count": 10,
   "id": "83c2e27a",
   "metadata": {},
   "outputs": [],
   "source": [
    "class Trajectory_Visualizer:\n",
    "    \n",
    "    def __init__(self):\n",
    "        \n",
    "        #initialize the figure\n",
    "        self.fig, self.ax_trajectory = plt.subplots()\n",
    "\n",
    "        #initialize the arrays relative to the robot's trajectory and the position of the target\n",
    "        self.robot_x = [0]\n",
    "        self.robot_y = [0] #initialized to (0,0)\n",
    "        self.target_x = []\n",
    "        self.target_y = []\n",
    "        \n",
    "        #initialize the robot's trajectory and the goal's marker\n",
    "        self.robot_line, = self.ax_trajectory.plot([], [], color='red', linewidth=5)\n",
    "        self.goal_marker, = self.ax_trajectory.plot([], [], marker='*', color='yellow', markersize=8)\n",
    "\n",
    "        #set title and axis\n",
    "        self.ax_trajectory.set_title('Robot Trajectory')\n",
    "        self.ax_trajectory.set_xlabel(\"X\")\n",
    "        self.ax_trajectory.set_ylabel(\"Y\")\n",
    "        self.ax_trajectory.set_xlim(-10, 10)\n",
    "        self.ax_trajectory.set_ylim(-10, 10)\n",
    "        self.ax_trajectory.set_aspect('equal')\n",
    "        self.ax_trajectory.grid(True, linestyle='--', linewidth=0.5)\n",
    "\n",
    "    def odom_callback(self, msg):\n",
    "        \n",
    "        #update the array for the robot trajectory \n",
    "        self.robot_x.append(msg.pose.pose.position.x) \n",
    "        self.robot_y.append(msg.pose.pose.position.y)\n",
    "\n",
    "    def update(self, frame):\n",
    "        \n",
    "        self.robot_line.set_data(self.robot_x, self.robot_y)\n",
    "\n",
    "        #update the goal marker position\n",
    "        if goal is not None:\n",
    "            self.target_x = goal.target_pose.pose.position.x\n",
    "            self.target_y = goal.target_pose.pose.position.y\n",
    "        else:\n",
    "            self.target_x = None\n",
    "            self.target_y = None\n",
    "\n",
    "        self.goal_marker.set_data(self.target_x, self.target_y)"
   ]
  },
  {
   "cell_type": "markdown",
   "id": "602a91ce",
   "metadata": {},
   "source": [
    "# MAIN"
   ]
  },
  {
   "cell_type": "markdown",
   "id": "087daeeb",
   "metadata": {},
   "source": [
    "Set the goal position or cancell the active one:"
   ]
  },
  {
   "cell_type": "code",
   "execution_count": 11,
   "id": "fe22cadc",
   "metadata": {
    "scrolled": true
   },
   "outputs": [
    {
     "data": {
      "application/vnd.jupyter.widget-view+json": {
       "model_id": "59701ac55b2e48f6be422b729d46efa5",
       "version_major": 2,
       "version_minor": 0
      },
      "text/plain": [
       "HBox(children=(BoundedFloatText(value=0.0, description='x', layout=Layout(width='100px'), max=9.0, min=-9.0, s…"
      ]
     },
     "metadata": {},
     "output_type": "display_data"
    },
    {
     "data": {
      "application/vnd.jupyter.widget-view+json": {
       "model_id": "934effdc194b4bc5adcb89286c8303f8",
       "version_major": 2,
       "version_minor": 0
      },
      "text/plain": [
       "HBox(children=(Button(button_style='success', description='Send goal', style=ButtonStyle()), Button(button_sty…"
      ]
     },
     "metadata": {},
     "output_type": "display_data"
    }
   ],
   "source": [
    "display(widgets.HBox([x_goal, y_goal]))\n",
    "display(widgets.HBox([send_goal, cancel_goal]))"
   ]
  },
  {
   "cell_type": "markdown",
   "id": "fc3f36c0",
   "metadata": {},
   "source": [
    "Display the distance from the closest obstacle:"
   ]
  },
  {
   "cell_type": "code",
   "execution_count": 12,
   "id": "9f0b5baf",
   "metadata": {},
   "outputs": [
    {
     "data": {
      "application/vnd.jupyter.widget-view+json": {
       "model_id": "56788887d276407ca171206d4d4d62f5",
       "version_major": 2,
       "version_minor": 0
      },
      "text/plain": [
       "HBox(children=(FloatText(value=0.0, description='Obstacle Distance:', disabled=True, layout=Layout(width='auto…"
      ]
     },
     "metadata": {},
     "output_type": "display_data"
    }
   ],
   "source": [
    "display(HBox([obs_distance]))"
   ]
  },
  {
   "cell_type": "markdown",
   "id": "7b1d42a7",
   "metadata": {},
   "source": [
    "Subscribe to the topics '/odom' and 'scan' to get the current robot position and the datas picked up from the laser:"
   ]
  },
  {
   "cell_type": "code",
   "execution_count": 13,
   "id": "cd56e153",
   "metadata": {
    "scrolled": true
   },
   "outputs": [
    {
     "data": {
      "application/vnd.jupyter.widget-view+json": {
       "model_id": "0b827658413b43b49a9662f8b9b7c9b3",
       "version_major": 2,
       "version_minor": 0
      },
      "text/plain": [
       "VBox(children=(HBox(children=(Button(description='Stop', style=ButtonStyle()),)), Output(layout=Layout(border=…"
      ]
     },
     "metadata": {},
     "output_type": "display_data"
    }
   ],
   "source": [
    "jr.subscribe('/odom', Odometry, callback)\n",
    "jr.subscribe('/scan', LaserScan, laser_callback)"
   ]
  },
  {
   "cell_type": "markdown",
   "id": "3c97e78a",
   "metadata": {},
   "source": [
    "Display the bar graph relative to the reached/cancelled goals:"
   ]
  },
  {
   "cell_type": "code",
   "execution_count": 14,
   "id": "fbdb0696",
   "metadata": {
    "scrolled": false
   },
   "outputs": [
    {
     "data": {
      "application/vnd.jupyter.widget-view+json": {
       "model_id": "a52df70e7cd24a738ae256240e9bd1f4",
       "version_major": 2,
       "version_minor": 0
      },
      "text/plain": [
       "Canvas(toolbar=Toolbar(toolitems=[('Home', 'Reset original view', 'home', 'home'), ('Back', 'Back to previous …"
      ]
     },
     "metadata": {},
     "output_type": "display_data"
    }
   ],
   "source": [
    "bar = Goal_Visualizer()\n",
    "results = rospy.Subscriber('/reaching_goal/result', assignment_2_2022.msg.PlanningActionResult, bar.goal_callback)\n",
    "\n",
    "animation_bar = FuncAnimation(bar.fig, bar.update, interval = 1000)\n",
    "plt.show(block = True)"
   ]
  },
  {
   "cell_type": "markdown",
   "id": "7f42a03e",
   "metadata": {},
   "source": [
    "Display the plot relative to the goal position and the robot trajectory:"
   ]
  },
  {
   "cell_type": "code",
   "execution_count": 15,
   "id": "ec2b4421",
   "metadata": {},
   "outputs": [
    {
     "data": {
      "application/vnd.jupyter.widget-view+json": {
       "model_id": "c6153934e07d42768cc1d9a7989de982",
       "version_major": 2,
       "version_minor": 0
      },
      "text/plain": [
       "Canvas(toolbar=Toolbar(toolitems=[('Home', 'Reset original view', 'home', 'home'), ('Back', 'Back to previous …"
      ]
     },
     "metadata": {},
     "output_type": "display_data"
    }
   ],
   "source": [
    "traj = Trajectory_Visualizer()\n",
    "sub = rospy.Subscriber('/odom', Odometry, traj.odom_callback)\n",
    "\n",
    "animation_traj = FuncAnimation(traj.fig, traj.update, interval = 1000)\n",
    "plt.show(block = True)"
   ]
  },
  {
   "cell_type": "code",
   "execution_count": null,
   "id": "1adbab97",
   "metadata": {},
   "outputs": [],
   "source": []
  }
 ],
 "metadata": {
  "kernelspec": {
   "display_name": "Python 3 (ipykernel)",
   "language": "python",
   "name": "python3"
  },
  "language_info": {
   "codemirror_mode": {
    "name": "ipython",
    "version": 3
   },
   "file_extension": ".py",
   "mimetype": "text/x-python",
   "name": "python",
   "nbconvert_exporter": "python",
   "pygments_lexer": "ipython3",
   "version": "3.8.5"
  }
 },
 "nbformat": 4,
 "nbformat_minor": 5
}
